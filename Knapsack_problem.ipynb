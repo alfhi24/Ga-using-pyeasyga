{
 "cells": [
  {
   "cell_type": "code",
   "execution_count": 5,
   "metadata": {},
   "outputs": [],
   "source": [
    "from pyeasyga import pyeasyga"
   ]
  },
  {
   "cell_type": "code",
   "execution_count": 34,
   "metadata": {},
   "outputs": [
    {
     "name": "stdout",
     "output_type": "stream",
     "text": [
      "(50, [0, 0, 0, 1, 1, 0, 0, 0, 1, 0, 1, 0, 0, 1, 1, 0, 0, 1, 1, 0])\n",
      "Kaos kaki\n",
      "Kursi\n",
      "Sepeda\n",
      "Buku\n",
      "Kemeja\n",
      "Celana\n",
      "Handphone\n",
      "Helm\n"
     ]
    }
   ],
   "source": [
    "data = [{'name': 'Mobil', 'value': 1, 'weight': 1},\n",
    "        {'name': 'Pensil', 'value': 6, 'weight': 6},\n",
    "        {'name': 'Private Jet', 'value': 8, 'weight': 8},\n",
    "        {'name': 'Kaos kaki', 'value': 9, 'weight': 9},\n",
    "        {'name': 'Kursi', 'value': 2, 'weight': 2},\n",
    "        {'name': 'Sepatu', 'value': 6, 'weight': 6},\n",
    "        {'name': 'Jaket', 'value': 7, 'weight': 7},\n",
    "        {'name': 'Topi', 'value': 4, 'weight': 4},\n",
    "        {'name': 'Sepeda', 'value': 3, 'weight': 3},\n",
    "        {'name': 'Bola', 'value': 5, 'weight': 5},\n",
    "        {'name': 'Buku', 'value': 6, 'weight': 6},\n",
    "        {'name': 'Sandal', 'value': 6, 'weight': 6},\n",
    "        {'name': 'Kaos', 'value': 5, 'weight': 5},\n",
    "        {'name': 'Kemeja', 'value': 3, 'weight': 3},\n",
    "        {'name': 'Celana', 'value': 8, 'weight': 8},\n",
    "        {'name': 'Motor', 'value': 10, 'weight': 10},\n",
    "        {'name': 'Laptop', 'value': 7, 'weight': 7},\n",
    "        {'name': 'Handphone', 'value': 9, 'weight': 9},\n",
    "        {'name': 'Helm', 'value': 10, 'weight': 10},\n",
    "        {'name': 'Karpet', 'value': 8, 'weight': 8}]\n",
    "\n",
    "ga = pyeasyga.GeneticAlgorithm(data)        \n",
    "\n",
    "\n",
    "def fitness(individual, data):\n",
    "    values, weights = 0, 0\n",
    "    for selected, box in zip(individual, data):\n",
    "        if selected:\n",
    "            values += box.get('value')\n",
    "            weights += box.get('weight')\n",
    "    if weights >50:\n",
    "        values = 0\n",
    "    return values\n",
    "\n",
    "ga.fitness_function = fitness               \n",
    "ga.run()                                    \n",
    "print (ga.best_individual())\n",
    "brg = np.copy(ga.best_individual()[1])\n",
    "for i in range(len(data)) :\n",
    "    if (brg[i] == 1) :\n",
    "        print(data[i].get('name'))\n"
   ]
  }
 ],
 "metadata": {
  "kernelspec": {
   "display_name": "Python 3",
   "language": "python",
   "name": "python3"
  },
  "language_info": {
   "codemirror_mode": {
    "name": "ipython",
    "version": 3
   },
   "file_extension": ".py",
   "mimetype": "text/x-python",
   "name": "python",
   "nbconvert_exporter": "python",
   "pygments_lexer": "ipython3",
   "version": "3.7.1"
  }
 },
 "nbformat": 4,
 "nbformat_minor": 2
}
